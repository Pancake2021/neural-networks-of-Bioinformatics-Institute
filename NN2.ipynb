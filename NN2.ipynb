{
 "cells": [
  {
   "metadata": {},
   "cell_type": "markdown",
   "source": [
    "Мы погуляли в фруктовом саду и собрали следующие данные про несколько обнаруженных там фруктов:\n",
    "\n",
    "желтизна\n",
    "симметричность\n",
    "это груша?\n",
    "\n",
    "Пусть у нас есть перцептрон с весами (0, 0) и смещением 0. \n",
    "\n",
    "Обучите его на приведённых данных различать груши и не груши (пока не надо обучать до сходимости: просто примените обучающее правило последовательно по одному разу на каждом примере, всего у вас получится 3 последовательных применения обучающего правила). \n",
    "\n",
    "Напишите в ответе через запятую получившиеся у вас смещение, вес для желтизны фрукта и вес для его симметричности (только итоговые, не надо писать результаты каждого шага)"
   ],
   "id": "18df10fb73d2c09"
  },
  {
   "metadata": {
    "ExecuteTime": {
     "end_time": "2024-08-13T13:50:04.279021Z",
     "start_time": "2024-08-13T13:50:04.275609Z"
    }
   },
   "cell_type": "code",
   "source": [
    "x1  = (1, 0.4, 0.7)\n",
    "x2 = (0.3, 0.5, 0.8)\n",
    "y = (1,1,0)\n",
    "w1 = 0\n",
    "w2 = 0\n",
    "b1 = 1\n",
    "for i in range(3):\n",
    "    \n",
    "    yi = w1*x1[i]+w2*x2[i]+b1\n",
    "    w1 = w1 + (y[i]-yi)*x1[i]\n",
    "    w2 = w2 + (y[i]-yi)*x2[i]\n",
    "    b1 = yi - b1 * x1[i] + b1 * x2[i]\n",
    "    print(w1,w2,yi)\n",
    "    \n",
    "    \n",
    "    \n",
    "    \n",
    "    "
   ],
   "id": "f8e0c1047c48a1fc",
   "outputs": [
    {
     "name": "stdout",
     "output_type": "stream",
     "text": [
      "0.0 0.0 1.0\n",
      "0.27999999999999997 0.35 0.3\n",
      "-0.28419999999999995 -0.29480000000000006 0.8059999999999999\n"
     ]
    }
   ],
   "execution_count": 10
  },
  {
   "metadata": {
    "ExecuteTime": {
     "end_time": "2024-08-13T14:00:48.353520Z",
     "start_time": "2024-08-13T14:00:48.340294Z"
    }
   },
   "cell_type": "code",
   "source": [
    "x1 = (1, 0.4, 0.7)  # Значения желтизны\n",
    "x2 = (0.3, 0.5, 0.8)  # Значения симметричности\n",
    "y = (1, 1, 0)  # Целевые значения (1 = да, 0 = нет)\n",
    "\n",
    "# Инициализация весов и смещения\n",
    "w1 = 0  # Вес для желтизны\n",
    "w2 = 0  # Вес для симметричности\n",
    "b = 0   # Смещение\n",
    "\n",
    "# Скорость обучения (по умолчанию 1)\n",
    "eta = 1\n",
    "\n",
    "for i in range(3):\n",
    "    # Вычисляем линейную комбинацию входов и смещения\n",
    "    output = w1 * x1[i] + w2 * x2[i] + b\n",
    "    \n",
    "    # Предсказание (1, если выход >= 0, иначе 0)\n",
    "    y_pred = 1 if output >= 0 else 0\n",
    "    \n",
    "    # Вычисляем ошибку\n",
    "    error = y[i] - y_pred\n",
    "    \n",
    "    # Обновляем веса и смещение\n",
    "    w1 += eta * error * x1[i]\n",
    "    w2 += eta * error * x2[i]\n",
    "    b += eta * error\n",
    "    \n",
    "    # Выводим текущие значения\n",
    "    print(f\"w1: {w1}, w2: {w2}, b: {b}\")"
   ],
   "id": "69fe4f9a3881864a",
   "outputs": [
    {
     "name": "stdout",
     "output_type": "stream",
     "text": [
      "w1: 0, w2: 0.0, b: 0\n",
      "w1: 0.0, w2: 0.0, b: 0\n",
      "w1: -0.7, w2: -0.8, b: -1\n"
     ]
    }
   ],
   "execution_count": 22
  },
  {
   "metadata": {
    "ExecuteTime": {
     "end_time": "2024-08-13T14:01:18.041985Z",
     "start_time": "2024-08-13T14:01:17.816710Z"
    }
   },
   "cell_type": "code",
   "source": [
    "# Импортируем библиотеки \n",
    "import numpy as np\n",
    "import random\n",
    "\n",
    "\n",
    "# Тренировочная выборка\n",
    "X = np.array([[1, 1, 0.3], [1, 0.4, 0.5], [1, 0.7, 0.8]])  # признаки объектов (признак для смещения (bias), желтизна и симметричность)\n",
    "y = np.array([1, 1, 0])  # истинные значения типа объектов (груша или не груша)\n",
    "# Начальные значения весов\n",
    "w = np.array([0, 0, 0])\n",
    "\n",
    "# Функция активации\n",
    "func_activate = lambda t: t > 1  # если t выше 1 то функция активации вернет True, в противном случае вернет False\n",
    "\n",
    "# Функция предсказания (x0*w0 + x1*w1 + x2*w2 + ... + xn*wn)\n",
    "predict = lambda x, w: func_activate(np.sum(x * w))\n",
    "\n",
    "# Функция тренировки весов\n",
    "def weights_train(X, y, w, epochs=1):\n",
    "    for epoch in range(epochs):\n",
    "        # Берем каждый объект из выборки и его истинный тип (например x[0] = (1, 1, 0.3) и y[0] = 1)\n",
    "        for x, y_true in zip(X, y): \n",
    "            # Получаем предсказание на признаках объекта из выборки и текущих весов (например y_pred = 1*0 + 1*0 + 0.3*0 = 0, 0 !> 1, False)\n",
    "            y_pred = predict(x, w) \n",
    "            # Если предсказание не сходится с истинным значением (например y_pred=False=0 != y_true=1) тогда:\n",
    "            if y_pred != y_true:\n",
    "                # Пересчитываем веса (y_true - y_pred может быть 1 или -1 и следовательно вес будет увеличен на 1*x или уменьшен на -1*x) \n",
    "                w = w + (y_true - y_pred)*x  # w + x или w - x\n",
    "        print(f'Эпоха: {epoch+1}, веса: {w}')\n",
    "    \n",
    "    return w\n",
    "\n",
    "\n",
    "# Тренировка весов и вывод результата\n",
    "epochs = 15  # кол-во эпох тренировки\n",
    "trained_weights = weights_train(X, y, w, epochs=epochs)\n",
    "print(f'Натренированные веса w0 (bais), w1 и w2 после {epochs} эпох(и) тренировки равны соответственно: {\", \".join(map(str, trained_weights.round(1)))}')\n",
    "\n",
    "# Проверяем модель (получаем предсказания) на новых объектах с натренированными на тестовой выборке весами\n",
    "answer = {True: \"да\", False: \"нет\"}\n",
    "x_test = np.array([1, 0.1, 0.1])  # новый объект\n",
    "print(f'Новый объект с признаками желтизна = {x_test[1]}, симметричность = {x_test[2]} (не желтый и не симметричный) это груша?: {answer[predict(x_test, trained_weights)]}')\n",
    "x_test = np.array([1, 0.9, 0.9])  # новый объект\n",
    "print(f'Новый объект с признаками желтизна = {x_test[1]}, симметричность = {x_test[2]} (желтый и симметричный) это груша?: {answer[predict(x_test, trained_weights)]}')\n",
    "for object in range(10):\n",
    "    x_test = np.array([round(random.uniform(0, 1), 1) for i in range(3)])  # новый объект\n",
    "    print(f'Новый объект с признаками желтизна = {x_test[1]}, симметричность = {x_test[2]} это груша?: {answer[predict(x_test, trained_weights)]}')"
   ],
   "id": "797d369640a10e8b",
   "outputs": [
    {
     "name": "stdout",
     "output_type": "stream",
     "text": [
      "Эпоха: 1, веса: [ 0.   0.3 -0.5]\n",
      "Эпоха: 2, веса: [ 0.   0.6 -1. ]\n",
      "Эпоха: 3, веса: [ 0.   0.9 -1.5]\n",
      "Эпоха: 4, веса: [ 0.   1.2 -2. ]\n",
      "Эпоха: 5, веса: [ 0.   1.5 -2.5]\n",
      "Эпоха: 6, веса: [ 1.   2.2 -2.5]\n",
      "Эпоха: 7, веса: [ 1.   1.9 -2.8]\n",
      "Эпоха: 8, веса: [ 1.   1.6 -3.1]\n",
      "Эпоха: 9, веса: [ 1.   1.3 -3.4]\n",
      "Эпоха: 10, веса: [ 2.   1.7 -2.9]\n",
      "Эпоха: 11, веса: [ 2.   1.7 -2.9]\n",
      "Эпоха: 12, веса: [ 2.   1.7 -2.9]\n",
      "Эпоха: 13, веса: [ 2.   1.7 -2.9]\n",
      "Эпоха: 14, веса: [ 2.   1.7 -2.9]\n",
      "Эпоха: 15, веса: [ 2.   1.7 -2.9]\n",
      "Натренированные веса w0 (bais), w1 и w2 после 15 эпох(и) тренировки равны соответственно: 2.0, 1.7, -2.9\n",
      "Новый объект с признаками желтизна = 0.1, симметричность = 0.1 (не желтый и не симметричный) это груша?: да\n",
      "Новый объект с признаками желтизна = 0.9, симметричность = 0.9 (желтый и симметричный) это груша?: нет\n",
      "Новый объект с признаками желтизна = 0.5, симметричность = 0.0 это груша?: да\n",
      "Новый объект с признаками желтизна = 0.1, симметричность = 0.7 это груша?: нет\n",
      "Новый объект с признаками желтизна = 0.1, симметричность = 0.0 это груша?: нет\n",
      "Новый объект с признаками желтизна = 0.3, симметричность = 0.6 это груша?: нет\n",
      "Новый объект с признаками желтизна = 0.7, симметричность = 0.6 это груша?: нет\n",
      "Новый объект с признаками желтизна = 0.2, симметричность = 0.9 это груша?: нет\n",
      "Новый объект с признаками желтизна = 0.6, симметричность = 1.0 это груша?: нет\n",
      "Новый объект с признаками желтизна = 0.7, симметричность = 0.2 это груша?: нет\n",
      "Новый объект с признаками желтизна = 0.2, симметричность = 0.9 это груша?: нет\n",
      "Новый объект с признаками желтизна = 0.6, симметричность = 0.8 это груша?: нет\n"
     ]
    }
   ],
   "execution_count": 23
  },
  {
   "metadata": {
    "ExecuteTime": {
     "end_time": "2024-08-13T14:01:57.635320Z",
     "start_time": "2024-08-13T14:01:57.623984Z"
    }
   },
   "cell_type": "code",
   "source": [
    "import numpy as np\n",
    "\n",
    "\n",
    "\n",
    "def func_activate(t):\n",
    "  return 1 if t > 1 else 0\n",
    "\n",
    "\n",
    "def pred(X, w):\n",
    "  return func_activate(X @ w.T)\n",
    "\n",
    "\n",
    "def train(X, y, w, iter=1):\n",
    "   \n",
    "  len_X = len(X) \n",
    "\n",
    "  for _ in range(iter):\n",
    "    for obj in range(len_X):\n",
    "      e = y[obj] - pred(X[obj], w)\n",
    "      w = w + e * X[obj]\n",
    "  \n",
    "  return w\n",
    "\n",
    "\n",
    "w = np.array([0, 0, 0])\n",
    "X = np.array([[1, 1, 0.3], [1, 0.4, 0.5], [1, 0.7, 0.8]])\n",
    "y = np.array([1, 1, 0])\n",
    "print(train(X, y, w))"
   ],
   "id": "36b08c4c89c6defb",
   "outputs": [
    {
     "name": "stdout",
     "output_type": "stream",
     "text": [
      "[ 0.   0.3 -0.5]\n"
     ]
    }
   ],
   "execution_count": 24
  },
  {
   "metadata": {},
   "cell_type": "markdown",
   "source": [
    "Сопоставьте каждому способу репрезентации весов и входов корректный способ вычисления активации линейного нейрона. В переменной \n",
    "𝑤\n",
    "w хранятся веса нейрона, в \n",
    "𝑏\n",
    "b — смещение, в \n",
    "𝑥\n",
    "x — значения входов."
   ],
   "id": "14bc88772ee4b540"
  },
  {
   "metadata": {
    "ExecuteTime": {
     "end_time": "2024-08-14T08:37:15.393701Z",
     "start_time": "2024-08-14T08:37:15.350320Z"
    }
   },
   "cell_type": "code",
   "source": [
    "import numpy as np\n",
    "\n",
    "# нет смысла транспонировать, да и не получится. \n",
    "# Поддерживает все указанные операции. Поэтому просто np.dot(w, x)\n",
    "weight = np.ones(3, dtype=float) \n",
    "array_m =  weight\n",
    "array_m_1 = weight.reshape((-1,1))\n",
    "array_1_m = weight[None]\n",
    "\n",
    "arrays = [array_m, array_m_1, array_1_m]\n",
    "\n",
    "# смотрим формы массивов\n",
    "print(f'{array_m.shape} shape: {array_m}')\n",
    "print(f'{array_m_1.shape} shape:\\n {array_m_1}')\n",
    "print(f'{array_1_m.shape} shape:{array_1_m}')\n",
    "\n",
    "\n",
    "# функции перемножения матриц\n",
    "def w_T_dot_x(weight, x_array):\n",
    "    return weight.T.dot(x_array)\n",
    "\n",
    "def np_dot_w_x(weight, x_array):\n",
    "    return np.dot(weight, x_array)\n",
    "\n",
    "def w_dot_x_T(weight, x_array):\n",
    "    return weight.dot(x_array.T)\n",
    "      \n",
    "functions = {'w_T_dot_x': w_T_dot_x, \n",
    "             'np_dot_w_x': np_dot_w_x,\n",
    "             'w_dot_x_T': w_dot_x_T}\n",
    "\n",
    "\n",
    "# проверка на то. что массив одномерный\n",
    "def is_not_matrix(result, type_of_test):\n",
    "    if isinstance(result, np.ndarray) and len(result) > 1:\n",
    "        print(type_of_test, ': ', result)\n",
    "    else:\n",
    "        print(type_of_test, ': ', result)\n",
    "        \n",
    "for array in arrays:\n",
    "    print(f'\\narray: {array} with shape:{array.shape}\\navailable operations:')\n",
    "    for key, function in functions.items():\n",
    "        try:\n",
    "            result = function(weight, array)\n",
    "            is_not_matrix(result, key)\n",
    "        except ValueError:\n",
    "            pass"
   ],
   "id": "6fe371ad242e6427",
   "outputs": [
    {
     "name": "stdout",
     "output_type": "stream",
     "text": [
      "(3,) shape: [1. 1. 1.]\n",
      "(3, 1) shape:\n",
      " [[1.]\n",
      " [1.]\n",
      " [1.]]\n",
      "(1, 3) shape:[[1. 1. 1.]]\n",
      "\n",
      "array: [1. 1. 1.] with shape:(3,)\n",
      "available operations:\n",
      "w_T_dot_x :  3.0\n",
      "np_dot_w_x :  3.0\n",
      "w_dot_x_T :  3.0\n",
      "\n",
      "array: [[1.]\n",
      " [1.]\n",
      " [1.]] with shape:(3, 1)\n",
      "available operations:\n",
      "w_T_dot_x :  [3.]\n",
      "np_dot_w_x :  [3.]\n",
      "\n",
      "array: [[1. 1. 1.]] with shape:(1, 3)\n",
      "available operations:\n",
      "w_dot_x_T :  [3.]\n"
     ]
    }
   ],
   "execution_count": 25
  }
 ],
 "metadata": {
  "kernelspec": {
   "display_name": "Python 3",
   "language": "python",
   "name": "python3"
  },
  "language_info": {
   "codemirror_mode": {
    "name": "ipython",
    "version": 2
   },
   "file_extension": ".py",
   "mimetype": "text/x-python",
   "name": "python",
   "nbconvert_exporter": "python",
   "pygments_lexer": "ipython2",
   "version": "2.7.6"
  }
 },
 "nbformat": 4,
 "nbformat_minor": 5
}
