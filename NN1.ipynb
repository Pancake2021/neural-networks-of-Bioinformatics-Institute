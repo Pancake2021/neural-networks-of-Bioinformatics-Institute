{
 "cells": [
  {
   "cell_type": "markdown",
   "metadata": {},
   "source": [
    "Найдите оптимальные коэффициенты для построения линейной регрессии.\n",
    "\n",
    "На вход вашему решению будет подано название csv-файла, из которого нужно считать данные. Пример можно посмотреть здесь. Загрузить их можно следующим образом:\n",
    "\n",
    "fname = input()  # read file name from stdin\n",
    "f = urllib.request.urlopen(fname)  # open file from URL\n",
    "data = np.loadtxt(f, delimiter=',', skiprows=1)  # load data to work with\n",
    "Ваша задача — подсчитать вектор коэффициентов линейной регрессии для предсказания первой переменной (первого столбца данных) по всем остальным. Напомним, что модель линейной регрессии — это \n",
    " , через пробел. Мы будем проверять совпадения с точностью до 4 знаков после запятой.\n",
    "\n",
    "Методы и приёмы, которые мы ещё не упоминали и которые могут вам помочь в процессе решения (могут являться подсказками!):\n",
    "\n",
    "np.hstack((array1, array2, ...))  # склеивает по строкам массивы, являющиеся компонентами кортежа, поданного на вход; массивы должны совпадать по всем измерениям, кроме второго\n",
    "np.ones_like(array)  # создаёт массив, состоящий из единиц, идентичный по форме массиву array\n",
    "\"delim\".join(array)  # возвращает строку, состоящую из элементов array, разделённых символами \"delim\"\n",
    "map(str, array)  # применяет функцию str к каждому элементу array\n"
   ]
  },
  {
   "cell_type": "code",
   "execution_count": 2,
   "metadata": {},
   "outputs": [],
   "source": [
    "import urllib\n",
    "from urllib import request\n",
    "import numpy as np\n",
    "\n",
    "fname = input(\n",
    "'https://stepik.org/media/attachments/lesson/16462/boston_houses.csv')  # read file name from stdin\n",
    "f = urllib.request.urlopen(fname)  # open file from URL\n",
    "data = np.loadtxt(f, delimiter=',', skiprows=1)  # load data to work with\n",
    "\n",
    "# here goes your solution"
   ]
  }
 ],
 "metadata": {
  "kernelspec": {
   "display_name": "base",
   "language": "python",
   "name": "python3"
  },
  "language_info": {
   "codemirror_mode": {
    "name": "ipython",
    "version": 3
   },
   "file_extension": ".py",
   "mimetype": "text/x-python",
   "name": "python",
   "nbconvert_exporter": "python",
   "pygments_lexer": "ipython3",
   "version": "3.11.7"
  }
 },
 "nbformat": 4,
 "nbformat_minor": 2
}
